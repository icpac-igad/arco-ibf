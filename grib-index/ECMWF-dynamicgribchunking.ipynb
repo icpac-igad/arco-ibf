{
 "cells": [
  {
   "cell_type": "code",
   "execution_count": null,
   "metadata": {
    "id": "NzO2IOsm_MfL"
   },
   "outputs": [],
   "source": [
    "import datetime\n",
    "import copy\n",
    "import xarray as xr\n",
    "import numpy as np\n",
    "import pandas as pd\n",
    "import fsspec\n",
    "import kerchunk\n",
    "from kerchunk.grib2 import scan_grib, grib_tree\n",
    "import gcsfs\n",
    "import datatree\n",
    "\n",
    "# This could be generalized to any gridded FMRC dataset but right now it works with NOAA's Grib2 files\n",
    "import dynamic_zarr_store\n"
   ]
  },
  {
   "cell_type": "markdown",
   "metadata": {
    "id": "ueTGv6_g6plE"
   },
   "source": [
    "## Extract the zarr store metadata\n",
    "\n",
    "\n",
    "Pick a file, any file... Must be on GCS so that coords use the same file store as the data vars"
   ]
  },
  {
   "cell_type": "code",
   "execution_count": null,
   "metadata": {
    "colab": {
     "base_uri": "https://localhost:8080/"
    },
    "id": "TvOmUkr-6plE",
    "outputId": "e61f1f20-0c43-40bb-ca6a-4c5076e76a9f"
   },
   "outputs": [],
   "source": [
    "%%time\n",
    "# Pick two files to build a grib_tree with the correct dimensions\n",
    "gfs_files = [\n",
    "    \"s3://ecmwf-forecasts/20240229/00z/ifs/0p25/enfo/20240229000000-0h-enfo-ef.grib2\",\n",
    "    \"s3://ecmwf-forecasts/20240229/00z/ifs/0p25/enfo/20240229000000-3h-enfo-ef.grib2\"\n",
    "]\n",
    "\n",
    "# This operation reads two of the large Grib2 files from GCS\n",
    "# scan_grib extracts the zarr kerchunk metadata for each individual grib message\n",
    "# grib_tree builds a zarr/xarray compatible hierarchical view of the dataset\n",
    "gfs_grib_tree_store = grib_tree([group for f in gfs_files for group in scan_grib(f)])\n",
    "# it is slow even in parallel because it requires a huge amount of IO\n",
    "#CPU times: user 3min 37s, sys: 17.1 s, total: 3min 55s\n",
    "#Wall time: 50min 58s"
   ]
  },
  {
   "cell_type": "code",
   "execution_count": null,
   "metadata": {
    "colab": {
     "base_uri": "https://localhost:8080/",
     "height": 186
    },
    "id": "IEOG_v8O5KVC",
    "outputId": "4b8e9b14-efc2-440e-9953-bd15df58bcc3"
   },
   "outputs": [],
   "source": [
    "%%time\n",
    "# The grib_tree can be opened directly using either zarr or xarray datatree\n",
    "# But this is too slow to build big aggregations\n",
    "gfs_dt = datatree.open_datatree(fsspec.filesystem(\"reference\", fo=gfs_grib_tree_store).get_mapper(\"\"), engine=\"zarr\", consolidated=False)\n",
    "gfs_dt\n",
    "#CPU times: user 130 ms, sys: 28.2 ms, total: 158 ms\n",
    "#Wall time: 154 ms"
   ]
  },
  {
   "cell_type": "markdown",
   "metadata": {
    "id": "R0Ew4zOIEoIw"
   },
   "source": [
    "## Separating static metadata from the chunk indexes"
   ]
  },
  {
   "cell_type": "code",
   "execution_count": null,
   "metadata": {
    "colab": {
     "base_uri": "https://localhost:8080/",
     "height": 423
    },
    "id": "ukcrJ9fi5NSS",
    "outputId": "0c9b6d89-883c-4fad-d891-6c62973c115f"
   },
   "outputs": [],
   "source": [
    "%%time\n",
    "# The key metadata associated with each grib message can be extracted into a table\n",
    "gfs_kind = dynamic_zarr_store.extract_datatree_chunk_index(gfs_dt, gfs_grib_tree_store, grib=True)\n",
    "gfs_kind"
   ]
  },
  {
   "cell_type": "code",
   "execution_count": null,
   "metadata": {
    "colab": {
     "base_uri": "https://localhost:8080/"
    },
    "id": "hX7Hh3aB6plF",
    "outputId": "ede04c84-cc23-4260-f8c2-6973f2ee56bc"
   },
   "outputs": [],
   "source": [
    "%%time\n",
    "# While the static zarr metadata associated with the dataset can be seperated - created once.\n",
    "deflated_gfs_grib_tree_store = copy.deepcopy(gfs_grib_tree_store)\n",
    "dynamic_zarr_store.strip_datavar_chunks(deflated_gfs_grib_tree_store)\n",
    "\n",
    "\n",
    "print(\"Original references: \", len(gfs_grib_tree_store[\"refs\"]))\n",
    "print(\"Stripped references: \", len(deflated_gfs_grib_tree_store[\"refs\"]))\n",
    "\n",
    "\n",
    "#Original references:  1006\n",
    "#Stripped references:  453\n",
    "#CPU times: user 1.83 ms, sys: 0 ns, total: 1.83 ms\n",
    "#Wall time: 1.83 ms"
   ]
  },
  {
   "cell_type": "code",
   "execution_count": null,
   "metadata": {
    "colab": {
     "base_uri": "https://localhost:8080/",
     "height": 628
    },
    "id": "XGNMVeWrHzJD",
    "outputId": "2c270e66-38ef-4acd-bc8f-62e3b1cd4e2b"
   },
   "outputs": [],
   "source": [
    "%%time\n",
    "# We can pull this out into a dataframe, that starts to look a bit like what we got above extracted from the actual grib files\n",
    "# But this method runs in under a second reading a file that is less than 100k\n",
    "idxdf = dynamic_zarr_store.parse_grib_idx(\n",
    "    fs=fsspec.filesystem(\"s3\"),\n",
    "    basename=\"s3://ecmwf-forecasts/20240229/00z/ifs/0p25/enfo/20240229000000-3h-enfo-ef\",\n",
    "    suffix=\"index\",\n",
    ")\n",
    "idxdf"
   ]
  },
  {
   "cell_type": "code",
   "execution_count": null,
   "metadata": {
    "colab": {
     "base_uri": "https://localhost:8080/",
     "height": 275
    },
    "id": "leAb3jXChBVQ",
    "outputId": "d6d842d0-e575-4c29-cd72-a4f999a946ed"
   },
   "outputs": [],
   "source": [
    "%%time\n",
    "# Unfortunately, some accumulation variables have duplicate attributes making them\n",
    "# indesinguishable from the IDX file\n",
    "idxdf.loc[idxdf['attrs'].duplicated(keep=False), :]\n"
   ]
  },
  {
   "cell_type": "code",
   "execution_count": null,
   "metadata": {
    "colab": {
     "base_uri": "https://localhost:8080/",
     "height": 943
    },
    "id": "6ws0cK3gHzMK",
    "outputId": "62e74a5a-86db-4a71-93d8-120515108b2f"
   },
   "outputs": [],
   "source": [
    "%%time\n",
    "# What we need is a mapping from our grib/zarr metadata to the attributes in the idx files\n",
    "# They are unique for each time horizon e.g. you need to build a unique mapping for the 1 hour\n",
    "# forecast, the 2 hour forecast... the 48 hour forecast.\n",
    "\n",
    "# let's make one for the 6 hour horizon. This requires reading both the grib and the idx file,\n",
    "# mapping the data for each grib message in order\n",
    "#took 2 minutes for one \n",
    "\n",
    "mapping = dynamic_zarr_store.build_idx_grib_mapping(\n",
    "    fs=fsspec.filesystem(\"s3\"),\n",
    "    basename=\"s3://ecmwf-forecasts/20240229/00z/ifs/0p25/enfo/20240229000000-3h-enfo-ef.grib2\",\n",
    ")\n",
    "mapping"
   ]
  },
  {
   "cell_type": "code",
   "execution_count": null,
   "metadata": {
    "colab": {
     "base_uri": "https://localhost:8080/",
     "height": 614
    },
    "id": "CzU9fWn5HzPS",
    "outputId": "770783d1-846a-47ce-c01f-02eea30939ef"
   },
   "outputs": [],
   "source": [
    "%%time\n",
    "# Now if we parse the RunTime from the idx file name `gfs.20230901/00/`\n",
    "# We can build a fully compatible k_index\n",
    "mapped_index = dynamic_zarr_store.map_from_index(\n",
    "    pd.Timestamp(\"2023-09-01T00\"),\n",
    "    mapping.loc[~mapping[\"attrs\"].duplicated(keep=\"first\"), :],\n",
    "    idxdf.loc[~idxdf[\"attrs\"].duplicated(keep=\"first\"), :]\n",
    ")\n",
    "mapped_index"
   ]
  },
  {
   "cell_type": "code",
   "execution_count": null,
   "metadata": {
    "colab": {
     "base_uri": "https://localhost:8080/",
     "height": 770
    },
    "id": "Ny9xKXjP7n57",
    "outputId": "15a5793b-a9df-4065-a403-1a35aa5c7cf8"
   },
   "outputs": [],
   "source": [
    "%%time\n",
    "mapped_index_list = []\n",
    "\n",
    "deduped_mapping = mapping.loc[~mapping[\"attrs\"].duplicated(keep=\"first\"), :]\n",
    "for date in pd.date_range(\"2023-09-01\", \"2023-09-30\"):\n",
    "  for runtime in range(0,24,6):\n",
    "    horizon=6\n",
    "    fname=f\"gs://global-forecast-system/gfs.{date.strftime('%Y%m%d')}/{runtime:02}/atmos/gfs.t{runtime:02}z.pgrb2.0p25.f{horizon:03}\"\n",
    "\n",
    "    idxdf = dynamic_zarr_store.parse_grib_idx(\n",
    "        fs=fsspec.filesystem(\"gcs\"),\n",
    "        basename=fname\n",
    "    )\n",
    "\n",
    "    mapped_index = dynamic_zarr_store.map_from_index(\n",
    "        pd.Timestamp( date + datetime.timedelta(hours=runtime)),\n",
    "        deduped_mapping,\n",
    "        idxdf.loc[~idxdf[\"attrs\"].duplicated(keep=\"first\"), :],\n",
    "    )\n",
    "    mapped_index_list.append(mapped_index)\n",
    "\n",
    "gfs_kind = pd.concat(mapped_index_list)\n",
    "gfs_kind\n"
   ]
  },
  {
   "cell_type": "markdown",
   "metadata": {
    "id": "VF60ETYemD6N"
   },
   "source": [
    "## We just aggregated a 120 GFS grib files in 18 seconds!\n",
    "\n",
    "Lets build it back into a data tree!\n",
    "\n",
    "The reinflate_grib_store interface is pretty opaque but allows building any slice of an FMRC. A good area for future improvement, but for now, since\n",
    "we have just a single 6 hour horizon slice let's build that..."
   ]
  },
  {
   "cell_type": "code",
   "execution_count": null,
   "metadata": {
    "colab": {
     "base_uri": "https://localhost:8080/"
    },
    "id": "IW1M7go56plF",
    "outputId": "17c2fa69-81f8-4d21-f260-4233e902a6ac"
   },
   "outputs": [],
   "source": [
    "axes = [\n",
    "  pd.Index(\n",
    "    [\n",
    "      pd.timedelta_range(start=\"0 hours\", end=\"6 hours\", freq=\"6h\", closed=\"right\", name=\"6 hour\"),\n",
    "    ],\n",
    "    name=\"step\"\n",
    "  ),\n",
    "  pd.date_range(\"2023-09-01T06:00\", \"2023-10T00:00\", freq=\"360min\", name=\"valid_time\")\n",
    "]\n",
    "axes"
   ]
  },
  {
   "cell_type": "code",
   "execution_count": null,
   "metadata": {
    "colab": {
     "base_uri": "https://localhost:8080/"
    },
    "id": "_M9oH4TJ6plG",
    "outputId": "c6043655-7c8b-4981-cb5f-f5d6a903315b"
   },
   "outputs": [],
   "source": [
    "%%time\n",
    "# It is fast to rebuild the datatree - but lets pull out two varables to look at...\n",
    "gfs_store = dynamic_zarr_store.reinflate_grib_store(\n",
    "    axes=axes,\n",
    "    aggregation_type=dynamic_zarr_store.AggregationType.HORIZON,\n",
    "    chunk_index=gfs_kind.loc[gfs_kind.varname.isin([\"dswrf\", \"t2m\"])],\n",
    "    zarr_ref_store=deflated_gfs_grib_tree_store\n",
    ")"
   ]
  },
  {
   "cell_type": "code",
   "execution_count": null,
   "metadata": {
    "colab": {
     "base_uri": "https://localhost:8080/",
     "height": 1000
    },
    "id": "Eeml5x_d6plG",
    "outputId": "19052d52-3ca5-4d1e-9a8a-a0608381b342"
   },
   "outputs": [],
   "source": [
    "gfs_dt = datatree.open_datatree(fsspec.filesystem(\"reference\", fo=gfs_store).get_mapper(\"\"), engine=\"zarr\", consolidated=False)\n",
    "gfs_dt"
   ]
  },
  {
   "cell_type": "code",
   "execution_count": null,
   "metadata": {},
   "outputs": [],
   "source": [
    "%%time\n",
    "gfs_dt.dswrf.avg.surface.dswrf[0,0:10,300,400].compute()"
   ]
  },
  {
   "cell_type": "code",
   "execution_count": null,
   "metadata": {
    "colab": {
     "base_uri": "https://localhost:8080/",
     "height": 296
    },
    "id": "MFCPjIJnpKh4",
    "outputId": "98c66ef2-8034-4b5e-f239-65e68c679e97"
   },
   "outputs": [],
   "source": [
    "%%time\n",
    "# Reading the data - especially extracting point time series isn't any faster once you have\n",
    "# the xarray datatree. This is just a much faster way of building the aggregations than\n",
    "# directly running scan_grib over all the data first.\n",
    "gfs_dt.dswrf.avg.surface.dswrf[0,0:10,300,400].compute()"
   ]
  },
  {
   "cell_type": "code",
   "execution_count": null,
   "metadata": {
    "colab": {
     "base_uri": "https://localhost:8080/",
     "height": 735
    },
    "id": "PSYb4OasbTKG",
    "outputId": "b4031b98-24fa-451d-e460-452dfad3695a"
   },
   "outputs": [],
   "source": [
    "gfs_dt.dswrf.avg.surface.dswrf[0,1,:,:].plot(figsize=(12,8))"
   ]
  },
  {
   "cell_type": "code",
   "execution_count": null,
   "metadata": {
    "colab": {
     "base_uri": "https://localhost:8080/",
     "height": 735
    },
    "id": "7zAfk1IshXMH",
    "outputId": "640f0354-d7f0-4a5f-f928-1ad1d0fcd481"
   },
   "outputs": [],
   "source": [
    "gfs_dt.dswrf.avg.surface.dswrf[0,2,:,:].plot(figsize=(12,8))"
   ]
  },
  {
   "cell_type": "code",
   "execution_count": null,
   "metadata": {
    "colab": {
     "base_uri": "https://localhost:8080/",
     "height": 735
    },
    "id": "T3gM0XLXhoZp",
    "outputId": "c37186b5-dbb1-4c98-c6e1-a787a5b85dae"
   },
   "outputs": [],
   "source": [
    "gfs_dt.dswrf.avg.surface.dswrf[0,3,:,:].plot(figsize=(12,8))"
   ]
  },
  {
   "cell_type": "markdown",
   "metadata": {},
   "source": [
    "# Timeseries"
   ]
  },
  {
   "cell_type": "code",
   "execution_count": null,
   "metadata": {},
   "outputs": [],
   "source": [
    "from joblib import parallel_config"
   ]
  },
  {
   "cell_type": "code",
   "execution_count": null,
   "metadata": {},
   "outputs": [],
   "source": [
    "%%time\n",
    "with parallel_config(n_jobs=8):\n",
    "    #res = gfs_dt.dswrf.avg.surface.dswrf.interp(longitude=[320.5, 300.2], latitude=[20.6, 45.7], method=\"linear\")\n",
    "    res = gfs_dt.dswrf.avg.surface.dswrf.interp(longitude=[320.5], latitude=[20.6], method=\"linear\")\n"
   ]
  },
  {
   "cell_type": "code",
   "execution_count": null,
   "metadata": {},
   "outputs": [],
   "source": [
    "res.plot()\n"
   ]
  },
  {
   "cell_type": "code",
   "execution_count": null,
   "metadata": {},
   "outputs": [],
   "source": [
    "%%time\n",
    "with parallel_config(n_jobs=8):\n",
    "    res = gfs_dt.dswrf.avg.surface.dswrf.interp(longitude=[320.5, 300.2], latitude=[20.6, 45.7], method=\"linear\")"
   ]
  },
  {
   "cell_type": "code",
   "execution_count": null,
   "metadata": {},
   "outputs": [],
   "source": [
    "res"
   ]
  },
  {
   "cell_type": "code",
   "execution_count": null,
   "metadata": {},
   "outputs": [],
   "source": [
    "%%time\n",
    "with parallel_config(n_jobs=8):\n",
    "    res = gfs_dt.dswrf.avg.surface.compute()"
   ]
  },
  {
   "cell_type": "code",
   "execution_count": null,
   "metadata": {},
   "outputs": [],
   "source": [
    "res"
   ]
  },
  {
   "cell_type": "code",
   "execution_count": null,
   "metadata": {},
   "outputs": [],
   "source": []
  }
 ],
 "metadata": {
  "colab": {
   "authorship_tag": "ABX9TyPQShGkdrEd0WnSDM4SoI/N",
   "include_colab_link": true,
   "provenance": []
  },
  "kernelspec": {
   "display_name": "Python 3 (ipykernel)",
   "language": "python",
   "name": "python3"
  },
  "language_info": {
   "codemirror_mode": {
    "name": "ipython",
    "version": 3
   },
   "file_extension": ".py",
   "mimetype": "text/x-python",
   "name": "python",
   "nbconvert_exporter": "python",
   "pygments_lexer": "ipython3",
   "version": "3.11.7"
  }
 },
 "nbformat": 4,
 "nbformat_minor": 4
}
