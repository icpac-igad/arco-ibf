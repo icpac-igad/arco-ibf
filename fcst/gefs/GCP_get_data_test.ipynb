{
 "cells": [
  {
   "cell_type": "code",
   "execution_count": 1,
   "id": "8cd0a648-bc1a-4102-965b-aef5ed3c5858",
   "metadata": {},
   "outputs": [],
   "source": [
    "## list of all variables needed in training cGAN\n",
    "\n",
    "\n",
    "var_names = {\\\n",
    "    'Convective available potential energy',\n",
    "    'Convective precipitation (water)',\n",
    "    'Medium cloud cover',\n",
    "    'Surface pressure',\n",
    "    'Upward short-wave radiation flux',\n",
    "    'Downward short-wave radiation flux',\n",
    "    '2 metre temperature',\n",
    "    'Cloud water',\n",
    "    'Precipitable water',\n",
    "    'Ice water mixing ratio',\n",
    "    'Cloud mixing ratio',\n",
    "    'Rain mixing ratio',\n",
    "    'Total Precipitation'\n",
    "    'U component of wind',\n",
    "    'V component of wind'\n",
    "}\n",
    "    \n",
    "\n",
    "\n",
    "var_levels = {\\\n",
    "    'surface',\n",
    "    'surface',\n",
    "    'middleCloudLayer',\n",
    "    'surface',\n",
    "    'surface',\n",
    "    'surface',\n",
    "    'heightAboveGround',\n",
    "    'atmosphereSingleLayer',\n",
    "    'atmosphereSingleLayer',\n",
    "    'isobaricInhPa',\n",
    "    'isobaricInhPa',\n",
    "    'isobaricInhPa',\n",
    "    'surface',\n",
    "    'isobaricInhPa',\n",
    "    'isobaricInhPa',\n",
    "}\n",
    "    \n"
   ]
  },
  {
   "cell_type": "code",
   "execution_count": null,
   "id": "b46df5e8-3f91-46aa-8f27-a1448012e6a1",
   "metadata": {},
   "outputs": [],
   "source": [
    "import utils\n",
    "import importlib\n",
    "importlib.reload(utils)\n",
    "import numpy as np\n",
    "\n",
    "time_beg = '2021-02-18'\n",
    "time_end = '2021-02-19'\n",
    "\n",
    "for date in np.arange(time_beg, time_end, np.timedelta64(1,'D'), dtype='datetime64'):\n",
    "\n",
    "    year = str(date).split('-')[0]\n",
    "    month = str(date).split('-')[1]\n",
    "    date = str(date).replace('-','')\n",
    "\n",
    "    for run in ['06']:\n",
    "        gcp_urls = utils.gefs_gcp_utl_maker(date,run, ensemble_members = np.arange(3,4))\n",
    "        filenames = utils.gen_json_gcp(gcp_urls, ['Convective available potential energy'], ['surface'])\n",
    "\n"
   ]
  },
  {
   "cell_type": "code",
   "execution_count": 13,
   "id": "be0f8697-9297-4794-b03a-144b711e803f",
   "metadata": {},
   "outputs": [
    {
     "data": {
      "text/plain": [
       "'gs://global-forecast-system/gfs.20210218/06/gfs.t06z.pgrb2.0p25.f003'"
      ]
     },
     "execution_count": 13,
     "metadata": {},
     "output_type": "execute_result"
    }
   ],
   "source": [
    "gcp_urls[0]"
   ]
  },
  {
   "cell_type": "code",
   "execution_count": 27,
   "id": "2446948c-5d8a-4392-b7ce-60599c95a6c0",
   "metadata": {},
   "outputs": [
    {
     "data": {
      "text/plain": [
       "['global-forecast-system/gfs.20230301/00/atmos/gfs.t00z.pgrb2.0p25.f003',\n",
       " 'global-forecast-system/gfs.20230301/00/atmos/gfs.t00z.pgrb2.0p25.f003.idx']"
      ]
     },
     "execution_count": 27,
     "metadata": {},
     "output_type": "execute_result"
    }
   ],
   "source": [
    "import fsspec\n",
    "fsspec.filesystem(\"gcs\", anon=True).glob(f\"gs://global-forecast-system/gfs.20230301/00/atmos/gfs.t00z.pgrb2.0p25.f003*\")"
   ]
  },
  {
   "cell_type": "code",
   "execution_count": null,
   "id": "ce01b6f8-95c9-4e24-a886-ae1a9f504eca",
   "metadata": {},
   "outputs": [],
   "source": []
  }
 ],
 "metadata": {
  "kernelspec": {
   "display_name": "Python kerchunk",
   "language": "python",
   "name": "kerchunk_2024"
  },
  "language_info": {
   "codemirror_mode": {
    "name": "ipython",
    "version": 3
   },
   "file_extension": ".py",
   "mimetype": "text/x-python",
   "name": "python",
   "nbconvert_exporter": "python",
   "pygments_lexer": "ipython3",
   "version": "3.10.13"
  }
 },
 "nbformat": 4,
 "nbformat_minor": 5
}
